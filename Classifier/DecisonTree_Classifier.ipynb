{
  "nbformat": 4,
  "nbformat_minor": 0,
  "metadata": {
    "colab": {
      "provenance": []
    },
    "kernelspec": {
      "name": "python3",
      "display_name": "Python 3"
    },
    "language_info": {
      "name": "python"
    }
  },
  "cells": [
    {
      "cell_type": "code",
      "source": [
        "#Import das Libs\n",
        "import pandas as pd\n",
        "from sklearn.preprocessing import MinMaxScaler\n",
        "from imblearn.over_sampling import SMOTE\n",
        "from sklearn.model_selection import cross_validate, GridSearchCV\n",
        "from sklearn.tree import DecisionTreeClassifier\n",
        "from sklearn.metrics import classification_report\n",
        "from pickle import dump, load"
      ],
      "metadata": {
        "id": "m4AhWNV0Ilnu"
      },
      "execution_count": 47,
      "outputs": []
    },
    {
      "cell_type": "markdown",
      "source": [],
      "metadata": {
        "id": "jaWRWx51Ju0g"
      }
    },
    {
      "cell_type": "code",
      "source": [
        "#carrega dados\n",
        "colunas = ['id', 'pSist', 'pDiast', 'qPA', 'pulso', 'fResp', 'grav', 'class']\n",
        "data = pd.read_csv('/content/env_vital_signals dados.txt', sep=',', names=colunas)"
      ],
      "metadata": {
        "id": "o9qxNrHBO0Fs"
      },
      "execution_count": 48,
      "outputs": []
    },
    {
      "cell_type": "code",
      "source": [
        "#separa atributos e classes\n",
        "data_attributes = data.drop(columns=\"class\")\n",
        "data_classes = data['class']"
      ],
      "metadata": {
        "id": "FvJai8f8O0D1"
      },
      "execution_count": 49,
      "outputs": []
    },
    {
      "cell_type": "code",
      "source": [
        "#normaliza e balancea\n",
        "normalizer = MinMaxScaler()\n",
        "data_attributes_normalized = normalizer.fit_transform(data_attributes)\n",
        "\n",
        "balancer = SMOTE()\n",
        "data_attributes_balanced, data_classes_balanced = balancer.fit_resample(data_attributes_normalized, data_classes)"
      ],
      "metadata": {
        "id": "lXaCof4uO0B2"
      },
      "execution_count": 50,
      "outputs": []
    },
    {
      "cell_type": "code",
      "source": [
        "#treinamento com Decision Tree\n",
        "dt = DecisionTreeClassifier()\n",
        "cv_results_dt = cross_validate(dt, data_attributes_balanced, data_classes_balanced, cv=10)"
      ],
      "metadata": {
        "id": "BD4E0ProOz_q"
      },
      "execution_count": 51,
      "outputs": []
    },
    {
      "cell_type": "code",
      "source": [
        "#GridSearchCV\n",
        "param_grid_dt = {\n",
        "    'max_depth': [3, 5, 7, 10],\n",
        "    'min_samples_split': [2, 5, 10],\n",
        "    'min_samples_leaf': [1, 2, 4]\n",
        "}"
      ],
      "metadata": {
        "id": "ybxNF4H-Oz9b"
      },
      "execution_count": 52,
      "outputs": []
    },
    {
      "cell_type": "code",
      "source": [
        "#busca melhores hiperparâmetros\n",
        "dt_grid = GridSearchCV(dt, param_grid_dt, refit=True, verbose=2)\n",
        "dt_grid.fit(data_attributes_balanced, data_classes_balanced)"
      ],
      "metadata": {
        "colab": {
          "base_uri": "https://localhost:8080/",
          "height": 1000
        },
        "id": "VhulKXPZOz7X",
        "outputId": "ee6a7b65-f122-4360-ee05-e3aa53582dcd"
      },
      "execution_count": 53,
      "outputs": [
        {
          "output_type": "stream",
          "name": "stdout",
          "text": [
            "Fitting 5 folds for each of 36 candidates, totalling 180 fits\n",
            "[CV] END max_depth=3, min_samples_leaf=1, min_samples_split=2; total time=   0.0s\n",
            "[CV] END max_depth=3, min_samples_leaf=1, min_samples_split=2; total time=   0.0s\n",
            "[CV] END max_depth=3, min_samples_leaf=1, min_samples_split=2; total time=   0.0s\n",
            "[CV] END max_depth=3, min_samples_leaf=1, min_samples_split=2; total time=   0.0s\n",
            "[CV] END max_depth=3, min_samples_leaf=1, min_samples_split=2; total time=   0.0s\n",
            "[CV] END max_depth=3, min_samples_leaf=1, min_samples_split=5; total time=   0.0s\n",
            "[CV] END max_depth=3, min_samples_leaf=1, min_samples_split=5; total time=   0.0s\n",
            "[CV] END max_depth=3, min_samples_leaf=1, min_samples_split=5; total time=   0.0s\n",
            "[CV] END max_depth=3, min_samples_leaf=1, min_samples_split=5; total time=   0.0s\n",
            "[CV] END max_depth=3, min_samples_leaf=1, min_samples_split=5; total time=   0.0s\n",
            "[CV] END max_depth=3, min_samples_leaf=1, min_samples_split=10; total time=   0.0s\n",
            "[CV] END max_depth=3, min_samples_leaf=1, min_samples_split=10; total time=   0.0s\n",
            "[CV] END max_depth=3, min_samples_leaf=1, min_samples_split=10; total time=   0.0s\n",
            "[CV] END max_depth=3, min_samples_leaf=1, min_samples_split=10; total time=   0.0s\n",
            "[CV] END max_depth=3, min_samples_leaf=1, min_samples_split=10; total time=   0.0s\n",
            "[CV] END max_depth=3, min_samples_leaf=2, min_samples_split=2; total time=   0.0s\n",
            "[CV] END max_depth=3, min_samples_leaf=2, min_samples_split=2; total time=   0.0s\n",
            "[CV] END max_depth=3, min_samples_leaf=2, min_samples_split=2; total time=   0.0s\n",
            "[CV] END max_depth=3, min_samples_leaf=2, min_samples_split=2; total time=   0.0s\n",
            "[CV] END max_depth=3, min_samples_leaf=2, min_samples_split=2; total time=   0.0s\n",
            "[CV] END max_depth=3, min_samples_leaf=2, min_samples_split=5; total time=   0.0s\n",
            "[CV] END max_depth=3, min_samples_leaf=2, min_samples_split=5; total time=   0.0s\n",
            "[CV] END max_depth=3, min_samples_leaf=2, min_samples_split=5; total time=   0.0s\n",
            "[CV] END max_depth=3, min_samples_leaf=2, min_samples_split=5; total time=   0.0s\n",
            "[CV] END max_depth=3, min_samples_leaf=2, min_samples_split=5; total time=   0.0s\n",
            "[CV] END max_depth=3, min_samples_leaf=2, min_samples_split=10; total time=   0.0s\n",
            "[CV] END max_depth=3, min_samples_leaf=2, min_samples_split=10; total time=   0.0s\n",
            "[CV] END max_depth=3, min_samples_leaf=2, min_samples_split=10; total time=   0.0s\n",
            "[CV] END max_depth=3, min_samples_leaf=2, min_samples_split=10; total time=   0.0s\n",
            "[CV] END max_depth=3, min_samples_leaf=2, min_samples_split=10; total time=   0.0s\n",
            "[CV] END max_depth=3, min_samples_leaf=4, min_samples_split=2; total time=   0.0s\n",
            "[CV] END max_depth=3, min_samples_leaf=4, min_samples_split=2; total time=   0.0s\n",
            "[CV] END max_depth=3, min_samples_leaf=4, min_samples_split=2; total time=   0.0s\n",
            "[CV] END max_depth=3, min_samples_leaf=4, min_samples_split=2; total time=   0.0s\n",
            "[CV] END max_depth=3, min_samples_leaf=4, min_samples_split=2; total time=   0.0s\n",
            "[CV] END max_depth=3, min_samples_leaf=4, min_samples_split=5; total time=   0.0s\n",
            "[CV] END max_depth=3, min_samples_leaf=4, min_samples_split=5; total time=   0.0s\n",
            "[CV] END max_depth=3, min_samples_leaf=4, min_samples_split=5; total time=   0.0s\n",
            "[CV] END max_depth=3, min_samples_leaf=4, min_samples_split=5; total time=   0.0s\n",
            "[CV] END max_depth=3, min_samples_leaf=4, min_samples_split=5; total time=   0.0s\n",
            "[CV] END max_depth=3, min_samples_leaf=4, min_samples_split=10; total time=   0.0s\n",
            "[CV] END max_depth=3, min_samples_leaf=4, min_samples_split=10; total time=   0.0s\n",
            "[CV] END max_depth=3, min_samples_leaf=4, min_samples_split=10; total time=   0.0s\n",
            "[CV] END max_depth=3, min_samples_leaf=4, min_samples_split=10; total time=   0.0s\n",
            "[CV] END max_depth=3, min_samples_leaf=4, min_samples_split=10; total time=   0.0s\n",
            "[CV] END max_depth=5, min_samples_leaf=1, min_samples_split=2; total time=   0.0s\n",
            "[CV] END max_depth=5, min_samples_leaf=1, min_samples_split=2; total time=   0.0s\n",
            "[CV] END max_depth=5, min_samples_leaf=1, min_samples_split=2; total time=   0.0s\n",
            "[CV] END max_depth=5, min_samples_leaf=1, min_samples_split=2; total time=   0.0s\n",
            "[CV] END max_depth=5, min_samples_leaf=1, min_samples_split=2; total time=   0.0s\n",
            "[CV] END max_depth=5, min_samples_leaf=1, min_samples_split=5; total time=   0.0s\n",
            "[CV] END max_depth=5, min_samples_leaf=1, min_samples_split=5; total time=   0.0s\n",
            "[CV] END max_depth=5, min_samples_leaf=1, min_samples_split=5; total time=   0.0s\n",
            "[CV] END max_depth=5, min_samples_leaf=1, min_samples_split=5; total time=   0.0s\n",
            "[CV] END max_depth=5, min_samples_leaf=1, min_samples_split=5; total time=   0.0s\n",
            "[CV] END max_depth=5, min_samples_leaf=1, min_samples_split=10; total time=   0.0s\n",
            "[CV] END max_depth=5, min_samples_leaf=1, min_samples_split=10; total time=   0.0s\n",
            "[CV] END max_depth=5, min_samples_leaf=1, min_samples_split=10; total time=   0.0s\n",
            "[CV] END max_depth=5, min_samples_leaf=1, min_samples_split=10; total time=   0.0s\n",
            "[CV] END max_depth=5, min_samples_leaf=1, min_samples_split=10; total time=   0.0s\n",
            "[CV] END max_depth=5, min_samples_leaf=2, min_samples_split=2; total time=   0.0s\n",
            "[CV] END max_depth=5, min_samples_leaf=2, min_samples_split=2; total time=   0.0s\n",
            "[CV] END max_depth=5, min_samples_leaf=2, min_samples_split=2; total time=   0.0s\n",
            "[CV] END max_depth=5, min_samples_leaf=2, min_samples_split=2; total time=   0.0s\n",
            "[CV] END max_depth=5, min_samples_leaf=2, min_samples_split=2; total time=   0.0s\n",
            "[CV] END max_depth=5, min_samples_leaf=2, min_samples_split=5; total time=   0.0s\n",
            "[CV] END max_depth=5, min_samples_leaf=2, min_samples_split=5; total time=   0.0s\n",
            "[CV] END max_depth=5, min_samples_leaf=2, min_samples_split=5; total time=   0.0s\n",
            "[CV] END max_depth=5, min_samples_leaf=2, min_samples_split=5; total time=   0.0s\n",
            "[CV] END max_depth=5, min_samples_leaf=2, min_samples_split=5; total time=   0.0s\n",
            "[CV] END max_depth=5, min_samples_leaf=2, min_samples_split=10; total time=   0.0s\n",
            "[CV] END max_depth=5, min_samples_leaf=2, min_samples_split=10; total time=   0.0s\n",
            "[CV] END max_depth=5, min_samples_leaf=2, min_samples_split=10; total time=   0.0s\n",
            "[CV] END max_depth=5, min_samples_leaf=2, min_samples_split=10; total time=   0.0s\n",
            "[CV] END max_depth=5, min_samples_leaf=2, min_samples_split=10; total time=   0.0s\n",
            "[CV] END max_depth=5, min_samples_leaf=4, min_samples_split=2; total time=   0.0s\n",
            "[CV] END max_depth=5, min_samples_leaf=4, min_samples_split=2; total time=   0.0s\n",
            "[CV] END max_depth=5, min_samples_leaf=4, min_samples_split=2; total time=   0.0s\n",
            "[CV] END max_depth=5, min_samples_leaf=4, min_samples_split=2; total time=   0.0s\n",
            "[CV] END max_depth=5, min_samples_leaf=4, min_samples_split=2; total time=   0.0s\n",
            "[CV] END max_depth=5, min_samples_leaf=4, min_samples_split=5; total time=   0.0s\n",
            "[CV] END max_depth=5, min_samples_leaf=4, min_samples_split=5; total time=   0.0s\n",
            "[CV] END max_depth=5, min_samples_leaf=4, min_samples_split=5; total time=   0.0s\n",
            "[CV] END max_depth=5, min_samples_leaf=4, min_samples_split=5; total time=   0.0s\n",
            "[CV] END max_depth=5, min_samples_leaf=4, min_samples_split=5; total time=   0.0s\n",
            "[CV] END max_depth=5, min_samples_leaf=4, min_samples_split=10; total time=   0.0s\n",
            "[CV] END max_depth=5, min_samples_leaf=4, min_samples_split=10; total time=   0.0s\n",
            "[CV] END max_depth=5, min_samples_leaf=4, min_samples_split=10; total time=   0.0s\n",
            "[CV] END max_depth=5, min_samples_leaf=4, min_samples_split=10; total time=   0.0s\n",
            "[CV] END max_depth=5, min_samples_leaf=4, min_samples_split=10; total time=   0.0s\n",
            "[CV] END max_depth=7, min_samples_leaf=1, min_samples_split=2; total time=   0.0s\n",
            "[CV] END max_depth=7, min_samples_leaf=1, min_samples_split=2; total time=   0.0s\n",
            "[CV] END max_depth=7, min_samples_leaf=1, min_samples_split=2; total time=   0.0s\n",
            "[CV] END max_depth=7, min_samples_leaf=1, min_samples_split=2; total time=   0.0s\n",
            "[CV] END max_depth=7, min_samples_leaf=1, min_samples_split=2; total time=   0.0s\n",
            "[CV] END max_depth=7, min_samples_leaf=1, min_samples_split=5; total time=   0.0s\n",
            "[CV] END max_depth=7, min_samples_leaf=1, min_samples_split=5; total time=   0.0s\n",
            "[CV] END max_depth=7, min_samples_leaf=1, min_samples_split=5; total time=   0.0s\n",
            "[CV] END max_depth=7, min_samples_leaf=1, min_samples_split=5; total time=   0.0s\n",
            "[CV] END max_depth=7, min_samples_leaf=1, min_samples_split=5; total time=   0.0s\n",
            "[CV] END max_depth=7, min_samples_leaf=1, min_samples_split=10; total time=   0.0s\n",
            "[CV] END max_depth=7, min_samples_leaf=1, min_samples_split=10; total time=   0.0s\n",
            "[CV] END max_depth=7, min_samples_leaf=1, min_samples_split=10; total time=   0.0s\n",
            "[CV] END max_depth=7, min_samples_leaf=1, min_samples_split=10; total time=   0.0s\n",
            "[CV] END max_depth=7, min_samples_leaf=1, min_samples_split=10; total time=   0.0s\n",
            "[CV] END max_depth=7, min_samples_leaf=2, min_samples_split=2; total time=   0.0s\n",
            "[CV] END max_depth=7, min_samples_leaf=2, min_samples_split=2; total time=   0.0s\n",
            "[CV] END max_depth=7, min_samples_leaf=2, min_samples_split=2; total time=   0.0s\n",
            "[CV] END max_depth=7, min_samples_leaf=2, min_samples_split=2; total time=   0.0s\n",
            "[CV] END max_depth=7, min_samples_leaf=2, min_samples_split=2; total time=   0.0s\n",
            "[CV] END max_depth=7, min_samples_leaf=2, min_samples_split=5; total time=   0.0s\n",
            "[CV] END max_depth=7, min_samples_leaf=2, min_samples_split=5; total time=   0.0s\n",
            "[CV] END max_depth=7, min_samples_leaf=2, min_samples_split=5; total time=   0.0s\n",
            "[CV] END max_depth=7, min_samples_leaf=2, min_samples_split=5; total time=   0.0s\n",
            "[CV] END max_depth=7, min_samples_leaf=2, min_samples_split=5; total time=   0.0s\n",
            "[CV] END max_depth=7, min_samples_leaf=2, min_samples_split=10; total time=   0.0s\n",
            "[CV] END max_depth=7, min_samples_leaf=2, min_samples_split=10; total time=   0.0s\n",
            "[CV] END max_depth=7, min_samples_leaf=2, min_samples_split=10; total time=   0.0s\n",
            "[CV] END max_depth=7, min_samples_leaf=2, min_samples_split=10; total time=   0.0s\n",
            "[CV] END max_depth=7, min_samples_leaf=2, min_samples_split=10; total time=   0.0s\n",
            "[CV] END max_depth=7, min_samples_leaf=4, min_samples_split=2; total time=   0.0s\n",
            "[CV] END max_depth=7, min_samples_leaf=4, min_samples_split=2; total time=   0.0s\n",
            "[CV] END max_depth=7, min_samples_leaf=4, min_samples_split=2; total time=   0.0s\n",
            "[CV] END max_depth=7, min_samples_leaf=4, min_samples_split=2; total time=   0.0s\n",
            "[CV] END max_depth=7, min_samples_leaf=4, min_samples_split=2; total time=   0.0s\n",
            "[CV] END max_depth=7, min_samples_leaf=4, min_samples_split=5; total time=   0.0s\n",
            "[CV] END max_depth=7, min_samples_leaf=4, min_samples_split=5; total time=   0.0s\n",
            "[CV] END max_depth=7, min_samples_leaf=4, min_samples_split=5; total time=   0.0s\n",
            "[CV] END max_depth=7, min_samples_leaf=4, min_samples_split=5; total time=   0.0s\n",
            "[CV] END max_depth=7, min_samples_leaf=4, min_samples_split=5; total time=   0.0s\n",
            "[CV] END max_depth=7, min_samples_leaf=4, min_samples_split=10; total time=   0.0s\n",
            "[CV] END max_depth=7, min_samples_leaf=4, min_samples_split=10; total time=   0.0s\n",
            "[CV] END max_depth=7, min_samples_leaf=4, min_samples_split=10; total time=   0.0s\n",
            "[CV] END max_depth=7, min_samples_leaf=4, min_samples_split=10; total time=   0.0s\n",
            "[CV] END max_depth=7, min_samples_leaf=4, min_samples_split=10; total time=   0.0s\n",
            "[CV] END max_depth=10, min_samples_leaf=1, min_samples_split=2; total time=   0.0s\n",
            "[CV] END max_depth=10, min_samples_leaf=1, min_samples_split=2; total time=   0.0s\n",
            "[CV] END max_depth=10, min_samples_leaf=1, min_samples_split=2; total time=   0.0s\n",
            "[CV] END max_depth=10, min_samples_leaf=1, min_samples_split=2; total time=   0.0s\n",
            "[CV] END max_depth=10, min_samples_leaf=1, min_samples_split=2; total time=   0.0s\n",
            "[CV] END max_depth=10, min_samples_leaf=1, min_samples_split=5; total time=   0.0s\n",
            "[CV] END max_depth=10, min_samples_leaf=1, min_samples_split=5; total time=   0.0s\n",
            "[CV] END max_depth=10, min_samples_leaf=1, min_samples_split=5; total time=   0.0s\n",
            "[CV] END max_depth=10, min_samples_leaf=1, min_samples_split=5; total time=   0.0s\n",
            "[CV] END max_depth=10, min_samples_leaf=1, min_samples_split=5; total time=   0.0s\n",
            "[CV] END max_depth=10, min_samples_leaf=1, min_samples_split=10; total time=   0.0s\n",
            "[CV] END max_depth=10, min_samples_leaf=1, min_samples_split=10; total time=   0.0s\n",
            "[CV] END max_depth=10, min_samples_leaf=1, min_samples_split=10; total time=   0.0s\n",
            "[CV] END max_depth=10, min_samples_leaf=1, min_samples_split=10; total time=   0.0s\n",
            "[CV] END max_depth=10, min_samples_leaf=1, min_samples_split=10; total time=   0.0s\n",
            "[CV] END max_depth=10, min_samples_leaf=2, min_samples_split=2; total time=   0.0s\n",
            "[CV] END max_depth=10, min_samples_leaf=2, min_samples_split=2; total time=   0.0s\n",
            "[CV] END max_depth=10, min_samples_leaf=2, min_samples_split=2; total time=   0.0s\n",
            "[CV] END max_depth=10, min_samples_leaf=2, min_samples_split=2; total time=   0.0s\n",
            "[CV] END max_depth=10, min_samples_leaf=2, min_samples_split=2; total time=   0.0s\n",
            "[CV] END max_depth=10, min_samples_leaf=2, min_samples_split=5; total time=   0.0s\n",
            "[CV] END max_depth=10, min_samples_leaf=2, min_samples_split=5; total time=   0.0s\n",
            "[CV] END max_depth=10, min_samples_leaf=2, min_samples_split=5; total time=   0.0s\n",
            "[CV] END max_depth=10, min_samples_leaf=2, min_samples_split=5; total time=   0.0s\n",
            "[CV] END max_depth=10, min_samples_leaf=2, min_samples_split=5; total time=   0.0s\n",
            "[CV] END max_depth=10, min_samples_leaf=2, min_samples_split=10; total time=   0.0s\n",
            "[CV] END max_depth=10, min_samples_leaf=2, min_samples_split=10; total time=   0.0s\n",
            "[CV] END max_depth=10, min_samples_leaf=2, min_samples_split=10; total time=   0.0s\n",
            "[CV] END max_depth=10, min_samples_leaf=2, min_samples_split=10; total time=   0.0s\n",
            "[CV] END max_depth=10, min_samples_leaf=2, min_samples_split=10; total time=   0.0s\n",
            "[CV] END max_depth=10, min_samples_leaf=4, min_samples_split=2; total time=   0.0s\n",
            "[CV] END max_depth=10, min_samples_leaf=4, min_samples_split=2; total time=   0.0s\n",
            "[CV] END max_depth=10, min_samples_leaf=4, min_samples_split=2; total time=   0.0s\n",
            "[CV] END max_depth=10, min_samples_leaf=4, min_samples_split=2; total time=   0.0s\n",
            "[CV] END max_depth=10, min_samples_leaf=4, min_samples_split=2; total time=   0.0s\n",
            "[CV] END max_depth=10, min_samples_leaf=4, min_samples_split=5; total time=   0.0s\n",
            "[CV] END max_depth=10, min_samples_leaf=4, min_samples_split=5; total time=   0.0s\n",
            "[CV] END max_depth=10, min_samples_leaf=4, min_samples_split=5; total time=   0.0s\n",
            "[CV] END max_depth=10, min_samples_leaf=4, min_samples_split=5; total time=   0.0s\n",
            "[CV] END max_depth=10, min_samples_leaf=4, min_samples_split=5; total time=   0.0s\n",
            "[CV] END max_depth=10, min_samples_leaf=4, min_samples_split=10; total time=   0.0s\n",
            "[CV] END max_depth=10, min_samples_leaf=4, min_samples_split=10; total time=   0.0s\n",
            "[CV] END max_depth=10, min_samples_leaf=4, min_samples_split=10; total time=   0.0s\n",
            "[CV] END max_depth=10, min_samples_leaf=4, min_samples_split=10; total time=   0.0s\n",
            "[CV] END max_depth=10, min_samples_leaf=4, min_samples_split=10; total time=   0.0s\n"
          ]
        },
        {
          "output_type": "execute_result",
          "data": {
            "text/plain": [
              "GridSearchCV(estimator=DecisionTreeClassifier(),\n",
              "             param_grid={'max_depth': [3, 5, 7, 10],\n",
              "                         'min_samples_leaf': [1, 2, 4],\n",
              "                         'min_samples_split': [2, 5, 10]},\n",
              "             verbose=2)"
            ],
            "text/html": [
              "<style>#sk-container-id-3 {color: black;background-color: white;}#sk-container-id-3 pre{padding: 0;}#sk-container-id-3 div.sk-toggleable {background-color: white;}#sk-container-id-3 label.sk-toggleable__label {cursor: pointer;display: block;width: 100%;margin-bottom: 0;padding: 0.3em;box-sizing: border-box;text-align: center;}#sk-container-id-3 label.sk-toggleable__label-arrow:before {content: \"▸\";float: left;margin-right: 0.25em;color: #696969;}#sk-container-id-3 label.sk-toggleable__label-arrow:hover:before {color: black;}#sk-container-id-3 div.sk-estimator:hover label.sk-toggleable__label-arrow:before {color: black;}#sk-container-id-3 div.sk-toggleable__content {max-height: 0;max-width: 0;overflow: hidden;text-align: left;background-color: #f0f8ff;}#sk-container-id-3 div.sk-toggleable__content pre {margin: 0.2em;color: black;border-radius: 0.25em;background-color: #f0f8ff;}#sk-container-id-3 input.sk-toggleable__control:checked~div.sk-toggleable__content {max-height: 200px;max-width: 100%;overflow: auto;}#sk-container-id-3 input.sk-toggleable__control:checked~label.sk-toggleable__label-arrow:before {content: \"▾\";}#sk-container-id-3 div.sk-estimator input.sk-toggleable__control:checked~label.sk-toggleable__label {background-color: #d4ebff;}#sk-container-id-3 div.sk-label input.sk-toggleable__control:checked~label.sk-toggleable__label {background-color: #d4ebff;}#sk-container-id-3 input.sk-hidden--visually {border: 0;clip: rect(1px 1px 1px 1px);clip: rect(1px, 1px, 1px, 1px);height: 1px;margin: -1px;overflow: hidden;padding: 0;position: absolute;width: 1px;}#sk-container-id-3 div.sk-estimator {font-family: monospace;background-color: #f0f8ff;border: 1px dotted black;border-radius: 0.25em;box-sizing: border-box;margin-bottom: 0.5em;}#sk-container-id-3 div.sk-estimator:hover {background-color: #d4ebff;}#sk-container-id-3 div.sk-parallel-item::after {content: \"\";width: 100%;border-bottom: 1px solid gray;flex-grow: 1;}#sk-container-id-3 div.sk-label:hover label.sk-toggleable__label {background-color: #d4ebff;}#sk-container-id-3 div.sk-serial::before {content: \"\";position: absolute;border-left: 1px solid gray;box-sizing: border-box;top: 0;bottom: 0;left: 50%;z-index: 0;}#sk-container-id-3 div.sk-serial {display: flex;flex-direction: column;align-items: center;background-color: white;padding-right: 0.2em;padding-left: 0.2em;position: relative;}#sk-container-id-3 div.sk-item {position: relative;z-index: 1;}#sk-container-id-3 div.sk-parallel {display: flex;align-items: stretch;justify-content: center;background-color: white;position: relative;}#sk-container-id-3 div.sk-item::before, #sk-container-id-3 div.sk-parallel-item::before {content: \"\";position: absolute;border-left: 1px solid gray;box-sizing: border-box;top: 0;bottom: 0;left: 50%;z-index: -1;}#sk-container-id-3 div.sk-parallel-item {display: flex;flex-direction: column;z-index: 1;position: relative;background-color: white;}#sk-container-id-3 div.sk-parallel-item:first-child::after {align-self: flex-end;width: 50%;}#sk-container-id-3 div.sk-parallel-item:last-child::after {align-self: flex-start;width: 50%;}#sk-container-id-3 div.sk-parallel-item:only-child::after {width: 0;}#sk-container-id-3 div.sk-dashed-wrapped {border: 1px dashed gray;margin: 0 0.4em 0.5em 0.4em;box-sizing: border-box;padding-bottom: 0.4em;background-color: white;}#sk-container-id-3 div.sk-label label {font-family: monospace;font-weight: bold;display: inline-block;line-height: 1.2em;}#sk-container-id-3 div.sk-label-container {text-align: center;}#sk-container-id-3 div.sk-container {/* jupyter's `normalize.less` sets `[hidden] { display: none; }` but bootstrap.min.css set `[hidden] { display: none !important; }` so we also need the `!important` here to be able to override the default hidden behavior on the sphinx rendered scikit-learn.org. See: https://github.com/scikit-learn/scikit-learn/issues/21755 */display: inline-block !important;position: relative;}#sk-container-id-3 div.sk-text-repr-fallback {display: none;}</style><div id=\"sk-container-id-3\" class=\"sk-top-container\"><div class=\"sk-text-repr-fallback\"><pre>GridSearchCV(estimator=DecisionTreeClassifier(),\n",
              "             param_grid={&#x27;max_depth&#x27;: [3, 5, 7, 10],\n",
              "                         &#x27;min_samples_leaf&#x27;: [1, 2, 4],\n",
              "                         &#x27;min_samples_split&#x27;: [2, 5, 10]},\n",
              "             verbose=2)</pre><b>In a Jupyter environment, please rerun this cell to show the HTML representation or trust the notebook. <br />On GitHub, the HTML representation is unable to render, please try loading this page with nbviewer.org.</b></div><div class=\"sk-container\" hidden><div class=\"sk-item sk-dashed-wrapped\"><div class=\"sk-label-container\"><div class=\"sk-label sk-toggleable\"><input class=\"sk-toggleable__control sk-hidden--visually\" id=\"sk-estimator-id-3\" type=\"checkbox\" ><label for=\"sk-estimator-id-3\" class=\"sk-toggleable__label sk-toggleable__label-arrow\">GridSearchCV</label><div class=\"sk-toggleable__content\"><pre>GridSearchCV(estimator=DecisionTreeClassifier(),\n",
              "             param_grid={&#x27;max_depth&#x27;: [3, 5, 7, 10],\n",
              "                         &#x27;min_samples_leaf&#x27;: [1, 2, 4],\n",
              "                         &#x27;min_samples_split&#x27;: [2, 5, 10]},\n",
              "             verbose=2)</pre></div></div></div><div class=\"sk-parallel\"><div class=\"sk-parallel-item\"><div class=\"sk-item\"><div class=\"sk-label-container\"><div class=\"sk-label sk-toggleable\"><input class=\"sk-toggleable__control sk-hidden--visually\" id=\"sk-estimator-id-4\" type=\"checkbox\" ><label for=\"sk-estimator-id-4\" class=\"sk-toggleable__label sk-toggleable__label-arrow\">estimator: DecisionTreeClassifier</label><div class=\"sk-toggleable__content\"><pre>DecisionTreeClassifier()</pre></div></div></div><div class=\"sk-serial\"><div class=\"sk-item\"><div class=\"sk-estimator sk-toggleable\"><input class=\"sk-toggleable__control sk-hidden--visually\" id=\"sk-estimator-id-5\" type=\"checkbox\" ><label for=\"sk-estimator-id-5\" class=\"sk-toggleable__label sk-toggleable__label-arrow\">DecisionTreeClassifier</label><div class=\"sk-toggleable__content\"><pre>DecisionTreeClassifier()</pre></div></div></div></div></div></div></div></div></div></div>"
            ]
          },
          "metadata": {},
          "execution_count": 53
        }
      ]
    },
    {
      "cell_type": "code",
      "source": [
        "# Treinar o modelo com os melhores parâmetros encontrados\n",
        "dt_best_params = dt_grid.best_estimator_\n",
        "dt_best_params.fit(data_attributes_balanced, data_classes_balanced)\n",
        "\n",
        "# Avaliar o desempenho do modelo\n",
        "classes_predict_dt = dt_best_params.predict(data_attributes_normalized)\n",
        "report_dt = classification_report(data_classes, classes_predict_dt)\n",
        "print(report_dt)\n",
        "\n",
        "# Salvar o modelo treinado\n",
        "dump(dt_best_params, open(\"predict_decision_tree.pkl\", \"wb\"))\n"
      ],
      "metadata": {
        "colab": {
          "base_uri": "https://localhost:8080/"
        },
        "id": "VtES6HxROz5F",
        "outputId": "0ca2f844-f847-48a8-8e49-4adec9caaa68"
      },
      "execution_count": 56,
      "outputs": [
        {
          "output_type": "stream",
          "name": "stdout",
          "text": [
            "              precision    recall  f1-score   support\n",
            "\n",
            "           1       1.00      1.00      1.00       620\n",
            "           2       1.00      1.00      1.00      2332\n",
            "           3       1.00      1.00      1.00       989\n",
            "           4       1.00      1.00      1.00        59\n",
            "\n",
            "    accuracy                           1.00      4000\n",
            "   macro avg       1.00      1.00      1.00      4000\n",
            "weighted avg       1.00      1.00      1.00      4000\n",
            "\n"
          ]
        }
      ]
    },
    {
      "cell_type": "code",
      "source": [
        "# Salvar o modelo treinado\n",
        "dump(dt_grid, open(\"predict_decision_tree.pkl\", \"wb\"))"
      ],
      "metadata": {
        "id": "Itopt9zeOz20"
      },
      "execution_count": 57,
      "outputs": []
    },
    {
      "cell_type": "code",
      "source": [
        "#Normalizar o novo paciente\n",
        "pacient = [[27,13.967106,11.146987,6.221129,185.367029,6.557369,14.446909]]\n",
        "normalizer_file = load(open('data_norm.pkl', 'rb'))\n",
        "new_patient_normalized = normalizer_file.transform(pacient)\n",
        "print(new_patient_normalized)"
      ],
      "metadata": {
        "colab": {
          "base_uri": "https://localhost:8080/"
        },
        "id": "KTggNAlYOzvJ",
        "outputId": "67262fa1-ffef-4d87-bd0a-365f54a0aeaa"
      },
      "execution_count": 59,
      "outputs": [
        {
          "output_type": "stream",
          "name": "stdout",
          "text": [
            "[[0.00675169 0.52768777 0.74319897 0.85617152 0.92734103 0.29801708\n",
            "  0.01659305]]\n"
          ]
        }
      ]
    },
    {
      "cell_type": "code",
      "source": [
        "#Classificar o novo paciente\n",
        "predict_file = load(open('predict_decision_tree.pkl', 'rb'))\n",
        "#print(predict_file)\n",
        "predict_pacient = predict_file.predict(new_patient_normalized)\n",
        "print(predict_pacient)"
      ],
      "metadata": {
        "colab": {
          "base_uri": "https://localhost:8080/"
        },
        "id": "HtgMN9v3QJR_",
        "outputId": "20b8236e-5b84-41c1-8782-559de6622945"
      },
      "execution_count": 61,
      "outputs": [
        {
          "output_type": "stream",
          "name": "stdout",
          "text": [
            "[1]\n"
          ]
        }
      ]
    },
    {
      "cell_type": "code",
      "source": [],
      "metadata": {
        "id": "U4qY4E9QQQQ-"
      },
      "execution_count": null,
      "outputs": []
    }
  ]
}